{
 "cells": [
  {
   "cell_type": "markdown",
   "metadata": {},
   "source": [
    "# The Battle of Neighborhoods - Part 1"
   ]
  },
  {
   "cell_type": "markdown",
   "metadata": {},
   "source": [
    "## Data Description"
   ]
  },
  {
   "cell_type": "markdown",
   "metadata": {},
   "source": [
    "### Source 1: List of companies of Canada via Wikipedia"
   ]
  },
  {
   "cell_type": "markdown",
   "metadata": {},
   "source": [
    "Canada has 162 cities as per Stats Canada's Census 2016. In order to narrow down, lets choose only the top 5 cities that has the maximum number of industrial headquaters located in that city. The _**[dataset](https://en.wikipedia.org/wiki/List_of_companies_of_Canada)**_ contains the following columns:\n"
   ]
  },
  {
   "cell_type": "markdown",
   "metadata": {},
   "source": [
    "- Name - Name of the Company\n",
    "- Industry - Type of the industry\n",
    "- Sector - Type of the sector\n",
    "- Headquaters - Name of the city the headquaters is located\n",
    "- Founded - The year in which the company was founded\n",
    "- Notes - Additional information about the company"
   ]
  },
  {
   "cell_type": "markdown",
   "metadata": {},
   "source": [
    "### Source 2: Crime by region-Canada via Wikipedia"
   ]
  },
  {
   "cell_type": "markdown",
   "metadata": {},
   "source": [
    "Safety is the prime factor to be considered while migrating. For each of the top 5 cities, Violent crime severity index by census metropolitan area is added and sorted by the lowest. The _**[dataset](https://en.wikipedia.org/wiki/Crime_in_Canada)**_ contains the following columns:"
   ]
  },
  {
   "cell_type": "markdown",
   "metadata": {},
   "source": [
    "- City - Name of the Census Metropolitan area\n",
    "- Years column from 2009-2016"
   ]
  },
  {
   "cell_type": "markdown",
   "metadata": {},
   "source": [
    "### Source 3: Quality of Life in Canada via Numbeo"
   ]
  },
  {
   "cell_type": "markdown",
   "metadata": {},
   "source": [
    "Quality of Life Index (higher is better) is an estimation of overall quality of life by using an empirical formula which takes into account purchasing power index (higher is better), pollution index (lower is better), house price to income ratio (lower is better), cost of living index (lower is better), safety index (higher is better), health care index (higher is better), traffic commute time index (lower is better) and climate index (higher is better)."
   ]
  },
  {
   "cell_type": "markdown",
   "metadata": {},
   "source": [
    "Though the _**[dataset](https://www.numbeo.com/quality-of-life/country_result.jsp?country=Canada)**_ contains multiple indicator columns, lets take into account only the quality of life index. "
   ]
  },
  {
   "cell_type": "markdown",
   "metadata": {},
   "source": [
    "### Source 4: List of Postal codes of Canada via Wikipedia"
   ]
  },
  {
   "cell_type": "markdown",
   "metadata": {},
   "source": [
    "This wikipedia page contains all the postal codes of the cities along with its neighborhood.It also provides latitude and longitude data. The _**[dataset](https://en.wikipedia.org/wiki/List_of_postal_codes_of_Canada:_T)**_ contains the following columns."
   ]
  },
  {
   "cell_type": "markdown",
   "metadata": {},
   "source": [
    "- Postal Code - Postal code of the Borough\n",
    "- Borough - Name of the Borough\n",
    "- Neighborhood - Its neighborhood\n",
    "- Latitude - Latitude of the neighborhood\n",
    "- Longitude - Longitude of the neighborhood"
   ]
  },
  {
   "cell_type": "markdown",
   "metadata": {},
   "source": [
    "### Source 5: Locational data via Foursquare API"
   ]
  },
  {
   "cell_type": "markdown",
   "metadata": {},
   "source": [
    "In order to retrieve information about different venues in different neighbourhoods, we can use the _**[Foursquare API](https://developer.foursquare.com/developer/)**_. It returns a list of recommended venues near the current location that is specified.It supports both userless and user authentication.Here we will be using a userless authentication where we have to specify a valid Client ID and Secret in the query string of each request.\n"
   ]
  },
  {
   "cell_type": "markdown",
   "metadata": {},
   "source": [
    "The request parameters are"
   ]
  },
  {
   "cell_type": "markdown",
   "metadata": {},
   "source": [
    "- Lat, Long - Latitude and Longitude of the place to be queried\n",
    "- Radius - Radius to search within, in meters\n",
    "- Limit - Number of results to return\n",
    "- Client ID - unique access token\n",
    "- Client Secret - unique access token"
   ]
  },
  {
   "cell_type": "markdown",
   "metadata": {},
   "source": [
    "A few response parameters are"
   ]
  },
  {
   "cell_type": "markdown",
   "metadata": {},
   "source": [
    "- headerLocation - A text name for the location the user searched\n",
    "- headerFullLocation -A full text name for the location the user searched\n",
    "- summary - Description of the venue\n",
    "- id - A unique string identifier for this venue\n",
    "- venue[name] - Name of the venue\n",
    "- address - address of the venue\n",
    "- lat,long - latitude and longitude of the venue\n",
    "- categories[name] - Name of the Category it belongs to"
   ]
  },
  {
   "cell_type": "markdown",
   "metadata": {},
   "source": [
    "The responses of the api which we require are the venue's name, its category'name and its lat and long values.Based on this we will perform k-means clustering to group similar neighbourhoods."
   ]
  },
  {
   "cell_type": "code",
   "execution_count": null,
   "metadata": {},
   "outputs": [],
   "source": []
  }
 ],
 "metadata": {
  "kernelspec": {
   "display_name": "Python 3",
   "language": "python",
   "name": "python3"
  },
  "language_info": {
   "codemirror_mode": {
    "name": "ipython",
    "version": 3
   },
   "file_extension": ".py",
   "mimetype": "text/x-python",
   "name": "python",
   "nbconvert_exporter": "python",
   "pygments_lexer": "ipython3",
   "version": "3.8.3"
  }
 },
 "nbformat": 4,
 "nbformat_minor": 4
}
