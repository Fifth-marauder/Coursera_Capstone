{
 "cells": [
  {
   "cell_type": "markdown",
   "metadata": {},
   "source": [
    "# The Battle of Neighborhoods - Part 1"
   ]
  },
  {
   "cell_type": "markdown",
   "metadata": {},
   "source": [
    "## Introduction"
   ]
  },
  {
   "cell_type": "markdown",
   "metadata": {},
   "source": [
    "It's no wonder that Canada is the most coveted immigration destination for people around the world. Canada’s reputation of being an immigration-friendly nation has also made it easier to move here and explore opportunities, education and quality of life.Many foreign nationals look to Canada as a land of opportunity, hoping to secure a comfortable life for themselves and their families. However, without proper research one might end up in a place that isn't aligned with their hopes and needs."
   ]
  },
  {
   "cell_type": "markdown",
   "metadata": {},
   "source": [
    "\n",
    "Inspite of being the second largest country, it has one of the lowest population desity ratio in the world,translating to less than 4 persons per square kilometre! Canada's largest cities include Toronto, Montreal, Vancouver, Calgary, Edmonton and Ottawa-Gatineau."
   ]
  },
  {
   "cell_type": "markdown",
   "metadata": {},
   "source": [
    "## Business Problem"
   ]
  },
  {
   "cell_type": "markdown",
   "metadata": {},
   "source": [
    "This project aims to select the most suitable city to live in terms of safety, cost and quality of living, industrial location,  and explore the neighbourhoods of that city using the Foursquare API to find the most common venues in each neighbourhood and finally cluster the neighbourhoods using the k-means clustering. It aims to aid migrants, in their choice of location based on amenities that the neighbourhood offers."
   ]
  },
  {
   "cell_type": "code",
   "execution_count": null,
   "metadata": {},
   "outputs": [],
   "source": []
  }
 ],
 "metadata": {
  "kernelspec": {
   "display_name": "Python 3",
   "language": "python",
   "name": "python3"
  },
  "language_info": {
   "codemirror_mode": {
    "name": "ipython",
    "version": 3
   },
   "file_extension": ".py",
   "mimetype": "text/x-python",
   "name": "python",
   "nbconvert_exporter": "python",
   "pygments_lexer": "ipython3",
   "version": "3.8.3"
  }
 },
 "nbformat": 4,
 "nbformat_minor": 4
}
